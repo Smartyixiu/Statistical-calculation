{
 "cells": [
  {
   "cell_type": "code",
   "execution_count": 1,
   "id": "8afd1428",
   "metadata": {},
   "outputs": [],
   "source": [
    "import numpy as np\n",
    "from matplotlib import pyplot as plt"
   ]
  },
  {
   "cell_type": "markdown",
   "id": "bd71fc00",
   "metadata": {},
   "source": [
    "$S\\sim 0.5F_X +0.5F_Y$\n",
    "和\n",
    "$S = X_1 +X_2$分别应该如何生成?\n",
    "\n",
    "\n",
    "第一种很简单，第二种称为复合抽样：\n",
    "\n",
    "设$P(I = i) = \\alpha_i,i = 1,2,...m$\n",
    "\n",
    "$Z_i\\sim F_{Z_i}$\n",
    "\n",
    "定义$X = Z_i,if\\ I = i$\n",
    "\n",
    "则$F_X = \\Sigma \\alpha_i F_{Z_i}$"
   ]
  },
  {
   "cell_type": "code",
   "execution_count": 2,
   "id": "f5cbaace",
   "metadata": {},
   "outputs": [
    {
     "ename": "SyntaxError",
     "evalue": "invalid syntax (Temp/ipykernel_12008/1564944733.py, line 6)",
     "output_type": "error",
     "traceback": [
      "\u001b[1;36m  File \u001b[1;32m\"C:\\Users\\86182\\AppData\\Local\\Temp/ipykernel_12008/1564944733.py\"\u001b[1;36m, line \u001b[1;32m6\u001b[0m\n\u001b[1;33m    if R <\u001b[0m\n\u001b[1;37m           ^\u001b[0m\n\u001b[1;31mSyntaxError\u001b[0m\u001b[1;31m:\u001b[0m invalid syntax\n"
     ]
    }
   ],
   "source": [
    "#生成上面的X随机数\n",
    "#先确定属于哪个Z_i,再生成Z_i随机数\n",
    "\n",
    "#step1:I = j\n",
    "R = np.random.rand()\n",
    "if R < \n",
    "#step2:X = Z_j"
   ]
  },
  {
   "cell_type": "markdown",
   "id": "c3c75ef5",
   "metadata": {},
   "source": [
    "练习：$0<a<1$的梯形分布的密度函数为:\n",
    "\n",
    "$$\n",
    "f(x) = \\left \\{ \n",
    "    \\begin{aligned}\n",
    "    & a + 2(1-a) x , x\\in [0,1] \\\\\n",
    "    & 0 , otherwise \n",
    "    \\end{aligned}\n",
    "    \\right.\n",
    "$$\n"
   ]
  },
  {
   "cell_type": "code",
   "execution_count": null,
   "id": "5169f3f2",
   "metadata": {},
   "outputs": [],
   "source": [
    "a = 0.3\n",
    "Num = 100000\n",
    "selector = np.random.rand(Num)\n",
    "selector[selector<a] = 0\n",
    "selector[selector>=a] = 1\n",
    "X = np.array()\n",
    "for i in range(Num):\n",
    "    if()\n",
    "#print(X)\n",
    "plt.hist(X,bins=100)\n",
    "plt.show()"
   ]
  },
  {
   "cell_type": "markdown",
   "id": "98c6645f",
   "metadata": {},
   "source": [
    "练习：用复合法产生双指数分布随机数"
   ]
  },
  {
   "cell_type": "code",
   "execution_count": null,
   "id": "db9d8929",
   "metadata": {},
   "outputs": [
    {
     "data": {
      "image/png": "[encoded data removed]",
      "text/plain": [
       "<Figure size 432x288 with 1 Axes>"
      ]
     },
     "metadata": {
      "needs_background": "light"
     },
     "output_type": "display_data"
    }
   ],
   "source": [
    "Num = 100000\n",
    "counter = 0\n",
    "X = []\n",
    "while(counter < Num):\n",
    "    selector = np.random.rand()\n",
    "    if(selector < 0.5):\n",
    "      x = -1 * np.random.exponential(1)\n",
    "    else:\n",
    "      x = 1 * np.random.exponential(1)\n",
    "    X.append(x)\n",
    "    counter = counter + 1\n",
    "\n",
    "#print(X)\n",
    "plt.hist(X,bins=100)\n",
    "plt.show()"
   ]
  },
  {
   "cell_type": "code",
   "execution_count": null,
   "id": "db9d8929",
   "metadata": {},
   "outputs": [
    {
     "data": {
      "image/png": "[encoded data removed]",
      "text/plain": [
       "<Figure size 432x288 with 1 Axes>"
      ]
     },
     "metadata": {
      "needs_background": "light"
     },
     "output_type": "display_data"
    }
   ],
   "source": [
    "#向量化编程\n",
    "\n",
    "Num = 100000\n",
    "selector = np.random.rand(Num)\n",
    "selector[selector<0.5] = -1\n",
    "selector[selector>=0.5] = 1\n",
    "X = selector *np.random.exponential(1,Num)\n",
    "\n",
    "#print(X)\n",
    "plt.hist(X,bins=100)\n",
    "plt.show()"
   ]
  },
  {
   "cell_type": "markdown",
   "id": "c939e90f",
   "metadata": {},
   "source": [
    "第四次作业：二选一"
   ]
  },
  {
   "cell_type": "markdown",
   "id": "3b5a7152",
   "metadata": {},
   "source": [
    "------------------------------------------\n",
    "\n",
    "多元正态分布：\n",
    "\n",
    "生成$N_d(\\mu,\\Sigma)$分布的随机数\n",
    "\n",
    "若$Z_i,i = 1,2,..,d$独立同分布于标准正态分布，则：\n",
    "\n",
    "$$\n",
    "Z = (Z_i)\\sim N_d(0,I_d)\n",
    "$$\n",
    "\n",
    "若$Z \\sim N_d(0,I_d) $，则\n",
    "\n",
    "$$\n",
    "CZ + \\mu \\sim N_d(\\mu,\\Sigma = C I_d C^T)\n",
    "$$\n",
    "\n",
    "step1:$Z\\sim N_d(0,I_d)$\n",
    "\n",
    "step2:分解$\\Sigma = C C^T$\n",
    "\n",
    "step3:$Z = CZ+\\mu $"
   ]
  },
  {
   "cell_type": "markdown",
   "id": "3eecea37",
   "metadata": {},
   "source": [
    "分解方法：\n",
    "\n",
    "谱分解\n",
    "\n",
    "Cholesky分解(L-U分解？)\n",
    "\n"
   ]
  },
  {
   "cell_type": "markdown",
   "id": "5d5c9a78",
   "metadata": {},
   "source": [
    "------------\n",
    "\n",
    "使用随机数-随机模拟方法\n",
    "\n",
    "- 利用随机数计算pi\n",
    "\n",
    "- 采样 蒙特卡洛(Monte Carlo) 计算定积分：$E(f(X)) = \\frac{1}{N} \\Sigma f(X_i)$\n"
   ]
  },
  {
   "cell_type": "markdown",
   "id": "779f1f39",
   "metadata": {},
   "source": [
    "蒲丰投针\n",
    "\n",
    "向等距离a的平行线上投一长为l的针，求针与平行线相交的概率。\n",
    "\n",
    "用M表示针的中心点，x表示M与最近的线的距离，$\\phi$表示针与最近的平行线夹角。则：\n",
    "\n",
    "相交$\\leftrightarrow x< \\frac{l}{2} \\sin \\phi$ (事件)\n",
    "\n",
    "x范围为$[0,\\frac{a}{2}]$ (总体)\n",
    "\n",
    "$P = \\frac{2 l}{\\pi a}$"
   ]
  },
  {
   "cell_type": "code",
   "execution_count": null,
   "id": "c6241b5e",
   "metadata": {},
   "outputs": [
    {
     "data": {
      "text/plain": [
       "3.1416902293433866"
      ]
     },
     "execution_count": 27,
     "metadata": {},
     "output_type": "execute_result"
    }
   ],
   "source": [
    "#实现之：\n",
    "#投M次，相交N次，则pi = 2l/a * N/M\n",
    "\n",
    "N = 10000\n",
    "a,l = 2.,1.\n",
    "x = a/2 *np.random.rand(M)\n",
    "phi = np.pi *np.random.rand(M)\n",
    "M = sum(x<l*np.sin(phi)/2)\n",
    "2*l/a *N/M"
   ]
  },
  {
   "cell_type": "code",
   "execution_count": null,
   "id": "a75bb6b3",
   "metadata": {},
   "outputs": [
    {
     "name": "stdout",
     "output_type": "stream",
     "text": [
      "\u001b[1;31mDocstring:\u001b[0m\n",
      "random(size=None)\n",
      "\n",
      "Return random floats in the half-open interval [0.0, 1.0). Alias for\n",
      "`random_sample` to ease forward-porting to the new random API.\n",
      "\u001b[1;31mType:\u001b[0m      builtin_function_or_method\n"
     ]
    }
   ],
   "source": [
    "np.random.random?"
   ]
  }
 ],
 "metadata": {
  "kernelspec": {
   "display_name": "Python 3 (ipykernel)",
   "language": "python",
   "name": "python3"
  },
  "language_info": {
   "codemirror_mode": {
    "name": "ipython",
    "version": 3
   },
   "file_extension": ".py",
   "mimetype": "text/x-python",
   "name": "python",
   "nbconvert_exporter": "python",
   "pygments_lexer": "ipython3",
   "version": "3.9.7"
  }
 },
 "nbformat": 4,
 "nbformat_minor": 5
}
