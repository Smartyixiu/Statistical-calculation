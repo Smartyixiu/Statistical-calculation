{
 "cells": [
  {
   "cell_type": "markdown",
   "metadata": {},
   "source": [
    "- Method3:对偶变量法\n",
    "\n",
    "两个随机变量$X,Y$之和的方差为\n",
    "$$\n",
    "\\begin{aligned}\n",
    "var(X+Y) &= var(X) + var(Y) + 2Cov(X,Y)\\\\\n",
    "&= var(X) + var(Y) + 2E(X-E(X))(Y-E(Y))\\\\\n",
    "&= var(X) + var(Y) + 2[E(XY)-E(X)E(Y)]\\\\\n",
    "&= var(X) + var(Y) - 2E(X)E(Y) +E(XY)\n",
    "\\end{aligned}\n",
    "$$\n",
    "\n",
    "通过控制$E(XY)<0(or \\ Cov(X,Y))$可以使得$var(X+Y)$减小"
   ]
  },
  {
   "cell_type": "markdown",
   "metadata": {},
   "source": [
    "例：计算$\\theta = \\int_0^1 e^x \\mathrm{d} x$\n",
    "\n",
    "$$\n",
    "\\theta = E(e^U),U\\sim U(0,1).\\theta' = \\frac{1}{N} \\Sigma_i e^{U_i}\n",
    "$$\n",
    "\n",
    "- $U_i\\sim U(0,1),i = 1,2,var(\\theta') = \\frac{var(e^U)}2$\n",
    "- 取$U,1-U,var(\\theta') = \\frac{var(e^U)} 2 +\\frac{Cov(e^U,e^{1-U})} 2$"
   ]
  },
  {
   "cell_type": "markdown",
   "metadata": {},
   "source": [
    "$Cov(e^U,e^{1-U}) = E(e^1)-E^2(e^U) = e-(e-1)^2<0$"
   ]
  },
  {
   "cell_type": "code",
   "execution_count": 1,
   "metadata": {},
   "outputs": [],
   "source": [
    "import numpy as np"
   ]
  },
  {
   "cell_type": "code",
   "execution_count": 2,
   "metadata": {},
   "outputs": [
    {
     "data": {
      "text/plain": [
       "-0.23421061355351425"
      ]
     },
     "execution_count": 2,
     "metadata": {},
     "output_type": "execute_result"
    }
   ],
   "source": [
    "np.e - (np.e-1)**2"
   ]
  },
  {
   "cell_type": "markdown",
   "metadata": {},
   "source": [
    "- Thm: 设$f,g$为同向单调函数，则\n",
    "\n",
    "$$\n",
    "E[f(X)g(X)] \\geq E[f(X)]E[g(X)]\n",
    "$$\n",
    "\n",
    "证明：$X,Y$独立同分布，考虑$E[(f(X)-f(Y))(g(X)-g(Y))] \\geq 0$\n",
    "\n",
    "拆开得$E[f(X)g(X)]+E[f(Y)g(Y)]\\geq E[f(X)]E[g(Y)]+E[f(Y)]E[g(X)]$\n",
    "\n",
    "独立同分布，把Y替换为X即得"
   ]
  },
  {
   "cell_type": "markdown",
   "metadata": {},
   "source": [
    "- Thm: 设$g(x)$单调，则\n",
    "$$\n",
    "Y_1 = g(F^{-1}(U)),Y_2 = g(F^{-1}(1-U));U\\sim U(0,1)\n",
    "$$\n",
    "\n",
    "负相关\n",
    "\n",
    "证明：套用上面的定理即可"
   ]
  },
  {
   "cell_type": "markdown",
   "metadata": {},
   "source": [
    "想法：上面得到了$Cov(Y_1,Y_2)<0$,这样就找到了上面对偶变量法要求的两个随机变量。\n",
    "\n",
    "** 并且由于$Y_i$里是一个逆变换法，这就是说我们可以根据需要而产生不同的条件分布?"
   ]
  },
  {
   "cell_type": "markdown",
   "metadata": {},
   "source": [
    "对于定积分$J = \\int_a^b g(x)\\mathrm{d} x = (b-a)\\int_a^b g(a+(b-a)\\frac{x-a}{b-a})\\mathrm{d} \\frac{x-a}{b-a}=(b-a)\\int_0^1 g(a+(b-a)u)\\mathrm{d} u$.\n",
    "\n",
    "如果需要2N个抽样，则可以分别产生N个$Y_1,Y_2$抽样。\n",
    "\n",
    "记$f(x)=g(a+(b-a)x)$,我们来计算$(b-a)\\int_0^1 f(x)\\mathrm{d} x$,这完全继承了之前的做法\n",
    "\n",
    "$$\n",
    "\\begin{aligned}\n",
    "&U\\sim U(0,1)\\\\\n",
    "&Y_1 = f(F^{-1}(U))=f(U) \\\\\n",
    "&Y_2 = f(F^{-1}(1-U))=f(1-U)\n",
    "\\end{aligned}\n",
    "$$\n",
    "\n",
    "对偶估计量为\n",
    "$$\n",
    "\\hat{J} = (b-a)\\frac{1}{N}\\Sigma_1^N \\frac{Y_{1i}+Y_{2i}} 2\n",
    "$$\n",
    "\n",
    "简单计算有如下结论\n",
    "$$\n",
    "\\begin{aligned}\n",
    "&E(\\hat{J})=(b-a)\\frac{1}N \\Sigma_1^N \\frac{E(Y_{1i})+E(Y_{2i})} 2=(b-a)E(Y)=J\\\\\n",
    "&Var(\\hat{J}) = \\frac{(b-a)^2}{N^2} \\Sigma_1^N \\frac{Var(Y_{1i})+Var(Y_{2i})} 4 = \\frac{(b-a)^2}{2N}(Var(Y)+Cov(Y1,Y2))\n",
    "\\end{aligned}\n",
    "$$\n"
   ]
  },
  {
   "cell_type": "markdown",
   "metadata": {},
   "source": [
    "另一种思考方式是，$J = \\int_a^b g(x)\\mathrm{d} x = (b-a)\\int_a^b g(x)\\frac{1}{b-a} \\mathrm{d} x=(b-a)\\int_a^b g(x)p(x) \\mathrm{d} x =\\int_a^b g(x)\\mathrm{d}F(x)$\n",
    "\n",
    "我们进行如下抽样：\n",
    "\n",
    "$$\n",
    "Y_1 = g(F^{-1}(U))=g(a+(b-a)u),Y_2 = g(F^{-1}(1-U))=g(a+(b-a)(1-u));U \\sim U(0,1),\n",
    "$$\n",
    "\n",
    "这和上边得到的结果是一致的"
   ]
  },
  {
   "cell_type": "markdown",
   "metadata": {},
   "source": [
    "对于上面的例子，$g(x) = e^x,F^{-1}(x) = x,x\\in[0,1]$"
   ]
  },
  {
   "cell_type": "code",
   "execution_count": 3,
   "metadata": {},
   "outputs": [
    {
     "data": {
      "text/plain": [
       "1.7173802519149042"
      ]
     },
     "execution_count": 3,
     "metadata": {},
     "output_type": "execute_result"
    }
   ],
   "source": [
    "def int_dual(num = 1000):\n",
    "   u = np.random.rand(num)\n",
    "   Y1 = np.exp(u)\n",
    "   Y2 = np.exp(1-u)\n",
    "   return np.mean(Y1+Y2)/2\n",
    "int_dual()"
   ]
  },
  {
   "cell_type": "markdown",
   "metadata": {},
   "source": [
    "计算标准正态分布在$[a,b]$积分，与简单平均值估计法比较。\n",
    "\n",
    "Note：标准正态分布密度函数在整个定义域上不单调，需要分区间考虑"
   ]
  },
  {
   "cell_type": "code",
   "execution_count": 6,
   "metadata": {},
   "outputs": [
    {
     "data": {
      "text/plain": [
       "0.34146669986004324"
      ]
     },
     "execution_count": 6,
     "metadata": {},
     "output_type": "execute_result"
    }
   ],
   "source": [
    "#还是选择均匀分布进行抽样\n",
    "def std_norm(x):\n",
    "    return np.exp(-x**2/2)/np.sqrt(2*np.pi)\n",
    "\n",
    "#0-1上积分\n",
    "def int_dual_normal_0_1(num = 1000):\n",
    "   u = np.random.rand(num)\n",
    "   Y1 = std_norm(u)\n",
    "   Y2 = std_norm(1-u)\n",
    "   return np.mean(Y1+Y2)/2\n",
    "int_dual_normal_0_1()"
   ]
  },
  {
   "cell_type": "code",
   "execution_count": 11,
   "metadata": {},
   "outputs": [
    {
     "data": {
      "text/plain": [
       "0.3416106843858564"
      ]
     },
     "execution_count": 11,
     "metadata": {},
     "output_type": "execute_result"
    }
   ],
   "source": [
    "def int_dual_normal_a_b(num = 1000,a = 0,b = 1):\n",
    "    if(a*b>=0): #单调区间上积分\n",
    "        u = np.random.rand(num)\n",
    "        Y1 = std_norm(a+(b-a)*u)\n",
    "        Y2 = std_norm(a+(b-a)*(1-u))\n",
    "        return np.mean(Y1+Y2)/2\n",
    "    if(a*b<0):\n",
    "        return int_dual_normal_a_b(a=a,b=0)+int_dual_normal_a_b(a=0,b=b)\n",
    "\n",
    "int_dual_normal_a_b()\n"
   ]
  },
  {
   "cell_type": "code",
   "execution_count": 10,
   "metadata": {},
   "outputs": [
    {
     "data": {
      "text/plain": [
       "0.6830167644464675"
      ]
     },
     "execution_count": 10,
     "metadata": {},
     "output_type": "execute_result"
    }
   ],
   "source": [
    "int_dual_normal_a_b(a=-1,b=1)"
   ]
  },
  {
   "cell_type": "code",
   "execution_count": 12,
   "metadata": {},
   "outputs": [
    {
     "data": {
      "text/plain": [
       "0.13587722190725451"
      ]
     },
     "execution_count": 12,
     "metadata": {},
     "output_type": "execute_result"
    }
   ],
   "source": [
    "int_dual_normal_a_b(a=-2,b=-1)"
   ]
  },
  {
   "cell_type": "markdown",
   "metadata": {},
   "source": []
  }
 ],
 "metadata": {
  "interpreter": {
   "hash": "913ba793057c49410cb0b8fad38ffadc8484001b3c7d87732475f59902202f50"
  },
  "kernelspec": {
   "display_name": "Python 3.9.7 64-bit",
   "language": "python",
   "name": "python3"
  },
  "language_info": {
   "codemirror_mode": {
    "name": "ipython",
    "version": 3
   },
   "file_extension": ".py",
   "mimetype": "text/x-python",
   "name": "python",
   "nbconvert_exporter": "python",
   "pygments_lexer": "ipython3",
   "version": "3.9.7"
  },
  "orig_nbformat": 4
 },
 "nbformat": 4,
 "nbformat_minor": 2
}
