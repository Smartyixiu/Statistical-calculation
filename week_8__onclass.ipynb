{
 "cells": [
  {
   "cell_type": "code",
   "execution_count": 1,
   "metadata": {},
   "outputs": [],
   "source": [
    "import numpy as np\n",
    "\n",
    "def f(x):\n",
    "    return np.exp(-0.5*x**2)/np.sqrt(2*np.pi)\n",
    "\n",
    "def int_a_b(num = 1000,a = 2,b = 5):\n",
    "    x = a + (b-a)*np.random.rand(num)\n",
    "    y = f(x)\n",
    "    return (b-a)*np.mean(y)\n"
   ]
  },
  {
   "cell_type": "code",
   "execution_count": 2,
   "metadata": {},
   "outputs": [
    {
     "data": {
      "text/plain": [
       "0.022749575648506368"
      ]
     },
     "execution_count": 2,
     "metadata": {},
     "output_type": "execute_result"
    }
   ],
   "source": [
    "int_a_b(10000)"
   ]
  },
  {
   "cell_type": "markdown",
   "metadata": {},
   "source": [
    "无穷积分之统计计算：\n",
    "\n",
    "从M处截断：\n",
    "$\\int_{-\\infty}^t  = \\int_{-\\infty}^M +\\int_{M}^t$"
   ]
  },
  {
   "cell_type": "code",
   "execution_count": 3,
   "metadata": {},
   "outputs": [],
   "source": [
    "#计算标准正态分布之分布函数\n",
    "\n",
    "def CMF_norm(num = 10000,t = 1):\n",
    "    if(t<0):\n",
    "        return 1-CMF_norm(num,-t)\n",
    "    if(t>=0):\n",
    "        return 0.5+int_a_b(num,a = 0,b = t)  #从0截断"
   ]
  },
  {
   "cell_type": "code",
   "execution_count": 4,
   "metadata": {},
   "outputs": [
    {
     "data": {
      "text/plain": [
       "1.000120586283249"
      ]
     },
     "execution_count": 4,
     "metadata": {},
     "output_type": "execute_result"
    }
   ],
   "source": [
    "CMF_norm(num = 100000,t = 3)"
   ]
  },
  {
   "cell_type": "markdown",
   "metadata": {},
   "source": [
    "hit-or-miss 方法\n",
    "\n",
    "$Z\\sim N(0,1)$,做N次试验\n",
    "\n",
    "$\\Phi_{estimated} = \\frac{1}{N} \\Sigma I(Z_i \\leqslant t)$"
   ]
  },
  {
   "cell_type": "code",
   "execution_count": 5,
   "metadata": {},
   "outputs": [
    {
     "data": {
      "text/plain": [
       "0.9997"
      ]
     },
     "execution_count": 5,
     "metadata": {},
     "output_type": "execute_result"
    }
   ],
   "source": [
    "n = 10000\n",
    "z = np.random.normal(size=[n,1])\n",
    "def int_hitormiss(t = 3):\n",
    "    return np.sum(z<=t)/n\n",
    "\n",
    "int_hitormiss(3)"
   ]
  },
  {
   "cell_type": "markdown",
   "metadata": {},
   "source": [
    "方差缩减技术\n",
    "\n",
    "- Method 1：增加样本量N\n",
    "- Method 2：重要抽样法：\n",
    "\n",
    "计算$J = \\int_A f(x) \\mathrm{d} x$\n",
    "\n",
    "Suppose $X\\sim g(x),Y = \\frac{f(X)}{g(X)}$\n",
    "\n",
    "$\\int f(x)dx = \\int \\frac{f(x)}{g(x)} g(x) dx = E (Y|X)$\n",
    "\n",
    "then\n",
    "\n",
    "$\\int_{estimated} = E(Y) =\\frac{1}{N}\\Sigma Y_i =\\frac{1}{N} \\Sigma \\frac{f(X_i)}{g(X_i)}$\n",
    "\n",
    "- $Var(est) = Var(Y)/N$\n",
    "- Y接近常数时，方差较小\n",
    "- t.t.s,g应与f足够接近\n",
    "- 应同时保证g容易抽取"
   ]
  },
  {
   "cell_type": "markdown",
   "metadata": {},
   "source": [
    "计算$\\int_0^1 e^x \\mathrm{d} x $\n",
    "\n",
    "考虑到其泰勒展开\n",
    "选$g(x) = \\frac{2}{3} (1+x)$"
   ]
  },
  {
   "cell_type": "code",
   "execution_count": 6,
   "metadata": {},
   "outputs": [
    {
     "data": {
      "text/plain": [
       "1.7166165420823574"
      ]
     },
     "execution_count": 6,
     "metadata": {},
     "output_type": "execute_result"
    }
   ],
   "source": [
    "num = 10000\n",
    "r = np.random.rand(num)\n",
    "x = np.sqrt(3*r+1)-1  #逆变换产生g\n",
    "y = np.exp(x)/(2/3*(1+x))\n",
    "np.mean(y)"
   ]
  },
  {
   "cell_type": "markdown",
   "metadata": {},
   "source": [
    "使用不同的重要函数估计积分，并比较效率\n",
    "\n",
    "$$\n",
    "\\int_0^1 \\frac{e^{-x}}{1+x^2} \\mathrm{d}x\n",
    "$$"
   ]
  },
  {
   "cell_type": "code",
   "execution_count": 7,
   "metadata": {},
   "outputs": [],
   "source": [
    "def f(x):\n",
    "    return np.exp(-x)/(1+x**2)"
   ]
  },
  {
   "cell_type": "markdown",
   "metadata": {},
   "source": [
    "比较效率：通过计算条件方差进行"
   ]
  },
  {
   "cell_type": "markdown",
   "metadata": {},
   "source": [
    "- $g_1(x) = 1,0<x<1$"
   ]
  },
  {
   "cell_type": "code",
   "execution_count": 60,
   "metadata": {},
   "outputs": [
    {
     "data": {
      "text/plain": [
       "0.5216823879545027"
      ]
     },
     "execution_count": 60,
     "metadata": {},
     "output_type": "execute_result"
    }
   ],
   "source": [
    "def est_g1(num = 10000):\n",
    "    x = np.random.rand(num)\n",
    "    y = f(x)/1\n",
    "    return np.mean(y)\n",
    "est_g1()"
   ]
  },
  {
   "cell_type": "code",
   "execution_count": 61,
   "metadata": {},
   "outputs": [
    {
     "data": {
      "text/plain": [
       "6.19725826199129e-06"
      ]
     },
     "execution_count": 61,
     "metadata": {},
     "output_type": "execute_result"
    }
   ],
   "source": [
    "def est(times = 1000):\n",
    "    num = 10000\n",
    "    estm = []\n",
    "    for i in range(times):\n",
    "        estm.append(est_g1(10000))\n",
    "    return estm \n",
    "estimates = est(1000)\n",
    "np.var(estimates)\n",
    "#np.var(y)等价于np.mean(y**2)-np.mean(y)**2"
   ]
  },
  {
   "cell_type": "markdown",
   "metadata": {},
   "source": [
    "- $g_2(x) = e^{-x},0<x<+\\infty$\n",
    "\n",
    "截取出$[0,1]$上的部分，其余部分对应的$f(x)$应取0，则有\n",
    "\n",
    "$\\int_0^1 f(x) \\mathrm{d} x = \\int_0^{+\\infty} f(x) \\mathrm{d}x = \\int_0^{+\\infty} \\frac{f(x)}{g_2(x)} g_2(x) \\mathrm{d} x = E(\\frac{f(X)}{g_2(X)})$"
   ]
  },
  {
   "cell_type": "code",
   "execution_count": 62,
   "metadata": {},
   "outputs": [
    {
     "data": {
      "text/plain": [
       "0.5230342164745109"
      ]
     },
     "execution_count": 62,
     "metadata": {},
     "output_type": "execute_result"
    }
   ],
   "source": [
    "def f2(x):\n",
    "    y=[]\n",
    "    for xi in x:\n",
    "        if(xi>1):\n",
    "            y.append(0)\n",
    "        else:\n",
    "            y.append(f(xi))\n",
    "    return y\n",
    "def est_g2(num = 10000):\n",
    "    r = np.random.rand(num)\n",
    "    x = -np.log(1-r)\n",
    "    y = f2(x)/np.exp(-x)\n",
    "    return np.mean(y)\n",
    "est_g2()"
   ]
  },
  {
   "cell_type": "code",
   "execution_count": 63,
   "metadata": {},
   "outputs": [
    {
     "data": {
      "text/plain": [
       "1.727962449519651e-05"
      ]
     },
     "execution_count": 63,
     "metadata": {},
     "output_type": "execute_result"
    }
   ],
   "source": [
    "def est(times = 1000):\n",
    "    num = 10000\n",
    "    estm = []\n",
    "    for i in range(times):\n",
    "        estm.append(est_g2(10000))\n",
    "    return estm \n",
    "estimates = est(1000)\n",
    "np.var(estimates)"
   ]
  },
  {
   "cell_type": "markdown",
   "metadata": {},
   "source": [
    "- $g_3(x) = \\frac{1}{\\pi(1+x^2)},-\\infty<x<+\\infty$\n",
    "\n",
    "做法同前"
   ]
  },
  {
   "cell_type": "code",
   "execution_count": 65,
   "metadata": {},
   "outputs": [
    {
     "name": "stdout",
     "output_type": "stream",
     "text": [
      "0.5462544670658748\n"
     ]
    },
    {
     "data": {
      "text/plain": [
       "0.5262395017645295"
      ]
     },
     "execution_count": 65,
     "metadata": {},
     "output_type": "execute_result"
    }
   ],
   "source": [
    "def f3(x):\n",
    "    y=[]\n",
    "    for xi in x:\n",
    "        if((xi<=1)&(xi>=0)):\n",
    "            y.append(f(xi))\n",
    "        else:\n",
    "            y.append(0)\n",
    "    return y\n",
    "\n",
    "#逆变换法生成g3\n",
    "r = np.random.rand(num)\n",
    "x = np.tan(np.pi*(r-0.5))\n",
    "y_inv = f3(x)*(np.pi*(1+x**2))\n",
    "print(np.mean(y_inv))\n",
    "\n",
    "#变换抽样生成g3\n",
    "def est_g3(num = 10000):\n",
    "    r = -np.pi/2+np.pi*np.random.rand(num)\n",
    "    x = np.tan(r)\n",
    "    y_trans = f3(x)*(np.pi*(1+x**2))\n",
    "    return np.mean(y_trans)\n",
    "est_g3(10000)"
   ]
  },
  {
   "cell_type": "code",
   "execution_count": 66,
   "metadata": {},
   "outputs": [
    {
     "data": {
      "text/plain": [
       "8.738997413162031e-05"
      ]
     },
     "execution_count": 66,
     "metadata": {},
     "output_type": "execute_result"
    }
   ],
   "source": [
    "def est(times = 1000):\n",
    "    num = 10000\n",
    "    estm = []\n",
    "    for i in range(times):\n",
    "        estm.append(est_g3(10000))\n",
    "    return estm \n",
    "estimates = est(1000)\n",
    "np.var(estimates)"
   ]
  },
  {
   "cell_type": "markdown",
   "metadata": {},
   "source": [
    "- $ g_4(x) = \\frac{e^{-x}}{1-e^{-1}},0<x<1 $"
   ]
  },
  {
   "cell_type": "code",
   "execution_count": 67,
   "metadata": {},
   "outputs": [
    {
     "data": {
      "text/plain": [
       "0.5249147320860077"
      ]
     },
     "execution_count": 67,
     "metadata": {},
     "output_type": "execute_result"
    }
   ],
   "source": [
    "def est_g4(num = 10000):\n",
    "    r = np.random.rand(num)\n",
    "    x = -np.log(1-r*(1-1/np.e))\n",
    "    y = f(x)/(np.exp(-x)/(1-1/np.e))\n",
    "    return np.mean(y)\n",
    "est_g4()"
   ]
  },
  {
   "cell_type": "code",
   "execution_count": 68,
   "metadata": {},
   "outputs": [
    {
     "data": {
      "text/plain": [
       "9.487686256498726e-07"
      ]
     },
     "execution_count": 68,
     "metadata": {},
     "output_type": "execute_result"
    }
   ],
   "source": [
    "def est(times = 1000):\n",
    "    num = 10000\n",
    "    estm = []\n",
    "    for i in range(times):\n",
    "        estm.append(est_g4(10000))\n",
    "    return estm \n",
    "estimates = est(1000)\n",
    "np.var(estimates)"
   ]
  },
  {
   "cell_type": "markdown",
   "metadata": {},
   "source": [
    "- $g_5(x) = \\frac{4}{\\pi (1+x^2)},0<x<1$"
   ]
  },
  {
   "cell_type": "code",
   "execution_count": 69,
   "metadata": {},
   "outputs": [
    {
     "data": {
      "text/plain": [
       "0.5247016697272776"
      ]
     },
     "execution_count": 69,
     "metadata": {},
     "output_type": "execute_result"
    }
   ],
   "source": [
    "def est_g5(num = 10000):\n",
    "    r = np.random.rand(num)\n",
    "    x = np.tan(np.pi*(r/4))\n",
    "    y = f(x)*(np.pi*(1+x**2))/4\n",
    "    return np.mean(y)\n",
    "est_g5()"
   ]
  },
  {
   "cell_type": "code",
   "execution_count": 70,
   "metadata": {},
   "outputs": [
    {
     "data": {
      "text/plain": [
       "1.8236990962378281e-06"
      ]
     },
     "execution_count": 70,
     "metadata": {},
     "output_type": "execute_result"
    }
   ],
   "source": [
    "def est(times = 1000):\n",
    "    num = 10000\n",
    "    estm = []\n",
    "    for i in range(times):\n",
    "        estm.append(est_g5(10000))\n",
    "    return estm \n",
    "estimates = est(1000)\n",
    "np.var(estimates)"
   ]
  },
  {
   "cell_type": "code",
   "execution_count": 50,
   "metadata": {},
   "outputs": [
    {
     "data": {
      "text/plain": [
       "0.5249198289624268"
      ]
     },
     "execution_count": 50,
     "metadata": {},
     "output_type": "execute_result"
    }
   ],
   "source": [
    "#变换抽样法\n",
    "r = np.pi/4*np.random.rand(num)\n",
    "x = np.tan(r)\n",
    "y = f(x)*(np.pi*(1+x**2))/4\n",
    "np.mean(y)"
   ]
  },
  {
   "cell_type": "code",
   "execution_count": 51,
   "metadata": {},
   "outputs": [
    {
     "data": {
      "text/plain": [
       "0.0014089069117289178"
      ]
     },
     "execution_count": 51,
     "metadata": {},
     "output_type": "execute_result"
    }
   ],
   "source": [
    "np.sqrt(np.var(y)/num)"
   ]
  },
  {
   "cell_type": "markdown",
   "metadata": {},
   "source": []
  }
 ],
 "metadata": {
  "interpreter": {
   "hash": "913ba793057c49410cb0b8fad38ffadc8484001b3c7d87732475f59902202f50"
  },
  "kernelspec": {
   "display_name": "Python 3.9.7 ('base')",
   "language": "python",
   "name": "python3"
  },
  "language_info": {
   "codemirror_mode": {
    "name": "ipython",
    "version": 3
   },
   "file_extension": ".py",
   "mimetype": "text/x-python",
   "name": "python",
   "nbconvert_exporter": "python",
   "pygments_lexer": "ipython3",
   "version": "3.9.7"
  },
  "orig_nbformat": 4
 },
 "nbformat": 4,
 "nbformat_minor": 2
}
